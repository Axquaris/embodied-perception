{
 "cells": [
  {
   "cell_type": "code",
   "execution_count": null,
   "metadata": {},
   "outputs": [
    {
     "name": "stdout",
     "output_type": "stream",
     "text": [
      "48.7 μs ± 1.73 μs per loop (mean ± std. dev. of 7 runs, 10,000 loops each)\n",
      "160 μs ± 4 μs per loop (mean ± std. dev. of 7 runs, 10,000 loops each)\n",
      "32.5 μs ± 1.35 μs per loop (mean ± std. dev. of 7 runs, 10,000 loops each)\n"
     ]
    }
   ],
   "source": [
    "import torch\n",
    "\n",
    "\n",
    "c_to_im = torch.tensor(\n",
    "    [\n",
    "        [.5, 0, 200],\n",
    "        [0, .5, 200],\n",
    "        [0, 0, .1],\n",
    "    ],\n",
    "    requires_grad=False,\n",
    "    device='cuda',\n",
    ")\n",
    "\n",
    "def mat(points, c_to_im):\n",
    "    return points @ c_to_im.T\n",
    "\n",
    "def individual(points):\n",
    "    return points[..., 0] * .5 + 200, points[..., 1] * .5 + 200\n",
    "\n",
    "def individual_simul(points):\n",
    "    return points * .5 + 200 # Each of these ops is almost as expensive as the whole matmul!\n",
    "\n",
    "points = torch.rand(10**5, 3, device='cuda')\n",
    "%timeit mat(points, c_to_im)\n",
    "%timeit individual(points)\n",
    "%timeit individual_simul(points)\n"
   ]
  }
 ],
 "metadata": {
  "kernelspec": {
   "display_name": "Python 3",
   "language": "python",
   "name": "python3"
  },
  "language_info": {
   "codemirror_mode": {
    "name": "ipython",
    "version": 3
   },
   "file_extension": ".py",
   "mimetype": "text/x-python",
   "name": "python",
   "nbconvert_exporter": "python",
   "pygments_lexer": "ipython3",
   "version": "3.11.9"
  }
 },
 "nbformat": 4,
 "nbformat_minor": 2
}
