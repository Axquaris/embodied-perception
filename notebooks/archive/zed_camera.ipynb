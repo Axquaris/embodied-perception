{
 "cells": [
  {
   "cell_type": "code",
   "execution_count": null,
   "metadata": {},
   "outputs": [],
   "source": [
    "import time\n",
    "import pyzed.sl as sl\n",
    "import rerun as rr\n",
    "import time\n",
    "import pathlib as pth\n",
    "import numpy as np\n",
    "from ember.util import PROJECT_ROOT\n",
    "\n",
    "import mediapy as media"
   ]
  },
  {
   "cell_type": "code",
   "execution_count": null,
   "metadata": {},
   "outputs": [],
   "source": [
    "svo_file = str(PROJECT_ROOT / \"data/zed_recordings/HD720_SN33087127_15-44-16.svo2\")\n",
    "\n",
    "# Set configuration parameters\n",
    "init_params = sl.InitParameters()\n",
    "init_params.set_from_svo_file(svo_file)\n",
    "# init_params.depth_mode = sl.DEPTH_MODE.NEURAL_PLUS\n",
    "\n",
    "# Open the camera\n",
    "zed_camera = sl.Camera()\n",
    "err = zed_camera.open(init_params)\n",
    "if err != sl.ERROR_CODE.SUCCESS:\n",
    "    print(repr(err))\n",
    "    exit(-1)\n",
    "\n",
    "runtime_param = sl.RuntimeParameters()\n",
    "\n",
    "# Main loop grabbing images and depth values\n",
    "errored = True\n",
    "sl_image = sl.Mat()\n",
    "sl_depth = sl.Mat()\n",
    "\n",
    "assert zed_camera.grab(runtime_param) == sl.ERROR_CODE.SUCCESS\n",
    "\n",
    "# Get the left image\n",
    "zed_camera.retrieve_image(sl_image, sl.VIEW.LEFT)  \n",
    "image = sl_image.numpy()\n",
    "image[..., :3] = image[..., 2::-1]  # BGRA -> RGBA\n",
    "\n",
    "# Get the depth map\n",
    "zed_camera.retrieve_measure(sl_depth, sl.MEASURE.DEPTH)  \n",
    "depth = sl_depth.numpy()"
   ]
  },
  {
   "cell_type": "code",
   "execution_count": null,
   "metadata": {},
   "outputs": [],
   "source": [
    "media.show_images(\n",
    "    images=[image, depth],\n",
    "    titles=[\"left_image\", \"depth\"],\n",
    "    width=300,\n",
    ")"
   ]
  }
 ],
 "metadata": {
  "kernelspec": {
   "display_name": "Python 3",
   "language": "python",
   "name": "python3"
  },
  "language_info": {
   "codemirror_mode": {
    "name": "ipython",
    "version": 3
   },
   "file_extension": ".py",
   "mimetype": "text/x-python",
   "name": "python",
   "nbconvert_exporter": "python",
   "pygments_lexer": "ipython3",
   "version": "3.11.9"
  }
 },
 "nbformat": 4,
 "nbformat_minor": 2
}
