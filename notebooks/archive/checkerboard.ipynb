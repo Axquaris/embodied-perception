{
 "cells": [
  {
   "cell_type": "code",
   "execution_count": 1,
   "metadata": {},
   "outputs": [
    {
     "name": "stderr",
     "output_type": "stream",
     "text": [
      "c:\\Users\\DOMCE\\anaconda3\\envs\\ember\\Lib\\site-packages\\kornia\\feature\\lightglue.py:44: FutureWarning: `torch.cuda.amp.custom_fwd(args...)` is deprecated. Please use `torch.amp.custom_fwd(args..., device_type='cuda')` instead.\n",
      "  @torch.cuda.amp.custom_fwd(cast_inputs=torch.float32)\n"
     ]
    }
   ],
   "source": [
    "%load_ext autoreload\n",
    "%autoreload 2\n",
    "%matplotlib inline\n",
    "%config InlineBackend.figure_format = 'retina'\n",
    "\n",
    "import time\n",
    "import numpy as np\n",
    "import torch\n",
    "import pyzed.sl as sl\n",
    "import rerun as rr\n",
    "import time\n",
    "import kornia as K\n",
    "import mediapy as media\n",
    "import matplotlib.pyplot as plt\n",
    "\n",
    "from ember.corners import compute_corner_map"
   ]
  },
  {
   "cell_type": "code",
   "execution_count": 2,
   "metadata": {},
   "outputs": [],
   "source": [
    "# rr.init(\"checkerboard.ipynb\", spawn=True)\n",
    "# rr.connect()  # Connect to a remote viewer\n",
    "\n",
    "def sl_image_to_np(sl_image):\n",
    "    # BRGA to RGB\n",
    "    image = sl_image.numpy()\n",
    "    image = image[..., [2, 1, 0, 3]]\n",
    "    return image"
   ]
  },
  {
   "cell_type": "code",
   "execution_count": 3,
   "metadata": {},
   "outputs": [],
   "source": [
    "RECORDING_PATH = \"C:/Users/DOMCE/OneDrive/Desktop/Personal Projects/embodied-perception/data/zed_recordings/HD720_SN33087127_15-44-16.svo2\"\n",
    "\n",
    "init_parameters = sl.InitParameters()\n",
    "init_parameters.set_from_svo_file(RECORDING_PATH)\n",
    "\n",
    "# Open the camera\n",
    "zed_camera = sl.Camera()\n",
    "camera_status = zed_camera.open(init_parameters)\n",
    "if camera_status != sl.ERROR_CODE.SUCCESS: #Ensure the camera opened succesfully \n",
    "    print(\"Camera Open\", camera_status, \"Exit program.\")\n",
    "    exit(1)\n",
    "\n",
    "runtime_param = sl.RuntimeParameters()\n",
    "\n",
    "\n",
    "sl_image_left = sl.Mat()\n",
    "sl_image_right = sl.Mat()\n",
    "sl_depth = sl.Mat()\n",
    "\n",
    "assert zed_camera.grab(runtime_param) == sl.ERROR_CODE.SUCCESS\n",
    "# Retrieve frame data\n",
    "frame_idx = zed_camera.get_svo_position()\n",
    "# zed_camera.\n",
    "\n",
    "zed_camera.retrieve_image(sl_image_left, sl.VIEW.LEFT)\n",
    "zed_camera.retrieve_image(sl_image_right, sl.VIEW.RIGHT)\n",
    "zed_camera.retrieve_measure(sl_depth, sl.MEASURE.DEPTH)  # Get the depth map\n",
    "\n",
    "image_left=sl_image_to_np(sl_image_left)\n",
    "image_right=sl_image_to_np(sl_image_right)\n",
    "depth=sl_depth.numpy()"
   ]
  },
  {
   "cell_type": "code",
   "execution_count": 4,
   "metadata": {},
   "outputs": [
    {
     "data": {
      "text/plain": [
       "array([[[ 70,  67,  60, 255],\n",
       "        [ 74,  71,  64, 255],\n",
       "        [ 75,  71,  65, 255],\n",
       "        ...,\n",
       "        [ 94,  85,  91, 255],\n",
       "        [ 94,  85,  87, 255],\n",
       "        [ 92,  83,  86, 255]],\n",
       "\n",
       "       [[ 73,  70,  63, 255],\n",
       "        [ 75,  72,  65, 255],\n",
       "        [ 77,  74,  67, 255],\n",
       "        ...,\n",
       "        [ 94,  85,  90, 255],\n",
       "        [ 93,  84,  89, 255],\n",
       "        [ 95,  86,  88, 255]],\n",
       "\n",
       "       [[ 78,  75,  68, 255],\n",
       "        [ 78,  75,  68, 255],\n",
       "        [ 74,  71,  64, 255],\n",
       "        ...,\n",
       "        [ 93,  84,  90, 255],\n",
       "        [ 96,  87,  88, 255],\n",
       "        [ 93,  84,  87, 255]],\n",
       "\n",
       "       ...,\n",
       "\n",
       "       [[ 65,  57,  46, 255],\n",
       "        [ 65,  57,  46, 255],\n",
       "        [ 65,  57,  46, 255],\n",
       "        ...,\n",
       "        [106, 106, 107, 255],\n",
       "        [122, 122, 121, 255],\n",
       "        [161, 161, 161, 255]],\n",
       "\n",
       "       [[ 65,  57,  46, 255],\n",
       "        [ 65,  57,  46, 255],\n",
       "        [ 65,  57,  46, 255],\n",
       "        ...,\n",
       "        [106, 106, 107, 255],\n",
       "        [108, 108, 108, 255],\n",
       "        [161, 161, 161, 255]],\n",
       "\n",
       "       [[ 65,  57,  46, 255],\n",
       "        [ 65,  57,  46, 255],\n",
       "        [ 67,  59,  48, 255],\n",
       "        ...,\n",
       "        [ 86,  86,  87, 255],\n",
       "        [ 74,  74,  74, 255],\n",
       "        [112, 112, 112, 255]]], dtype=uint8)"
      ]
     },
     "execution_count": 4,
     "metadata": {},
     "output_type": "execute_result"
    }
   ],
   "source": [
    "image_left"
   ]
  }
 ],
 "metadata": {
  "kernelspec": {
   "display_name": "ember",
   "language": "python",
   "name": "python3"
  },
  "language_info": {
   "codemirror_mode": {
    "name": "ipython",
    "version": 3
   },
   "file_extension": ".py",
   "mimetype": "text/x-python",
   "name": "python",
   "nbconvert_exporter": "python",
   "pygments_lexer": "ipython3",
   "version": "3.11.9"
  }
 },
 "nbformat": 4,
 "nbformat_minor": 2
}
