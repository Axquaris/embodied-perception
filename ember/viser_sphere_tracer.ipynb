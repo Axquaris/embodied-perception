{
 "cells": [
  {
   "cell_type": "code",
   "execution_count": 1,
   "metadata": {},
   "outputs": [
    {
     "data": {
      "text/html": [
       "<pre style=\"white-space:pre;overflow-x:auto;line-height:normal;font-family:Menlo,'DejaVu Sans Mono',consolas,'Courier New',monospace\">╭──────────────── <span style=\"font-weight: bold\">viser</span> ────────────────╮\n",
       "│             ╷                         │\n",
       "│   HTTP      │ http://localhost:8080   │\n",
       "│   Websocket │ ws://localhost:8080     │\n",
       "│             ╵                         │\n",
       "╰───────────────────────────────────────╯\n",
       "</pre>\n"
      ],
      "text/plain": [
       "╭──────────────── \u001b[1mviser\u001b[0m ────────────────╮\n",
       "│             ╷                         │\n",
       "│   HTTP      │ http://localhost:8080   │\n",
       "│   Websocket │ ws://localhost:8080     │\n",
       "│             ╵                         │\n",
       "╰───────────────────────────────────────╯\n"
      ]
     },
     "metadata": {},
     "output_type": "display_data"
    }
   ],
   "source": [
    "import numpy as np\n",
    "import time\n",
    "import viser\n",
    "import mediapy as media\n",
    "\n",
    "import torch\n",
    "from einops import einsum\n",
    "\n",
    "server = viser.ViserServer()\n",
    "server.gui.configure_theme(dark_mode=True)\n",
    "\n",
    "server.scene.add_frame(\"origin\")\n",
    "server.scene.set_up_direction((0., 1., 0.))\n",
    "\n",
    "position_slider = server.gui.add_vector3(\n",
    "    \"Position\",\n",
    "    initial_value=(0, 0, 0),\n",
    "    min=(-5, -5, -5),\n",
    "    max=(5, 5, 5),\n",
    ")\n",
    "radius_slider = server.gui.add_slider(\n",
    "    \"Radius\",\n",
    "    min=0,\n",
    "    max=5,\n",
    "    step=0.1,\n",
    "    initial_value=1\n",
    ")\n",
    "\n",
    "resolution_slider = server.gui.add_slider(\n",
    "    \"Resolution\", min=64, max=1024, step=64, initial_value=256\n",
    ")\n",
    "fov_slider = server.gui.add_slider(\n",
    "    \"FOV\", min=30, max=170, step=10, initial_value=60\n",
    ")\n",
    "trace_iter_slider = server.gui.add_slider(\n",
    "    \"Trace Iters\", min=1, max=200, step=1, initial_value=20\n",
    ")"
   ]
  },
  {
   "cell_type": "code",
   "execution_count": 2,
   "metadata": {},
   "outputs": [
    {
     "data": {
      "text/html": [
       "<pre style=\"white-space:pre;overflow-x:auto;line-height:normal;font-family:Menlo,'DejaVu Sans Mono',consolas,'Courier New',monospace\"><span style=\"font-weight: bold\">(viser)</span> Connection opened <span style=\"font-weight: bold\">(</span><span style=\"color: #008080; text-decoration-color: #008080; font-weight: bold\">0</span>, <span style=\"color: #008080; text-decoration-color: #008080; font-weight: bold\">1</span> total<span style=\"font-weight: bold\">)</span>, <span style=\"color: #008080; text-decoration-color: #008080; font-weight: bold\">14</span> persistent messages\n",
       "</pre>\n"
      ],
      "text/plain": [
       "\u001b[1m(\u001b[0m\u001b[1mviser\u001b[0m\u001b[1m)\u001b[0m Connection opened \u001b[1m(\u001b[0m\u001b[1;36m0\u001b[0m, \u001b[1;36m1\u001b[0m total\u001b[1m)\u001b[0m, \u001b[1;36m14\u001b[0m persistent messages\n"
      ]
     },
     "metadata": {},
     "output_type": "display_data"
    },
    {
     "data": {
      "text/plain": [
       "(array([3., 3., 3.]),\n",
       " array([ 0.27984814,  0.88047624,  0.1159169 , -0.3647052 ]))"
      ]
     },
     "execution_count": 2,
     "metadata": {},
     "output_type": "execute_result"
    }
   ],
   "source": [
    "while not list(server.get_clients().values()):\n",
    "    time.sleep(0.5)\n",
    "\n",
    "client = list(server.get_clients().values())[-1]\n",
    "camera = client.camera\n",
    "# camera.position = (0., 0., 0.)\n",
    "# # Point camera \"down\" x-axis\n",
    "# # camera.wxyz = (1., 0., 0, 0.)\n",
    "\n",
    "@fov_slider.on_update\n",
    "def _(_) -> None:\n",
    "    camera.fov = fov_slider.value * np.pi / 180\n",
    "\n",
    "camera.position, camera.wxyz\n"
   ]
  },
  {
   "cell_type": "code",
   "execution_count": 3,
   "metadata": {},
   "outputs": [],
   "source": [
    "def qvec2rotmat(qvec):\n",
    "    return torch.tensor(\n",
    "        [\n",
    "            [\n",
    "                1 - 2 * qvec[2] ** 2 - 2 * qvec[3] ** 2,\n",
    "                2 * qvec[1] * qvec[2] - 2 * qvec[0] * qvec[3],\n",
    "                2 * qvec[3] * qvec[1] + 2 * qvec[0] * qvec[2],\n",
    "            ],\n",
    "            [\n",
    "                2 * qvec[1] * qvec[2] + 2 * qvec[0] * qvec[3],\n",
    "                1 - 2 * qvec[1] ** 2 - 2 * qvec[3] ** 2,\n",
    "                2 * qvec[2] * qvec[3] - 2 * qvec[0] * qvec[1],\n",
    "            ],\n",
    "            [\n",
    "                2 * qvec[3] * qvec[1] - 2 * qvec[0] * qvec[2],\n",
    "                2 * qvec[2] * qvec[3] + 2 * qvec[0] * qvec[1],\n",
    "                1 - 2 * qvec[1] ** 2 - 2 * qvec[2] ** 2,\n",
    "            ],\n",
    "        ],\n",
    "        dtype=torch.float32,\n",
    "        device=\"cuda\",\n",
    "    )\n",
    "\n",
    "def get_c2w(camera):\n",
    "    c2w = torch.eye(4, dtype=torch.float32)\n",
    "    c2w[:3, :3] = qvec2rotmat(camera.wxyz)\n",
    "    c2w[:3, 3] = camera.position\n",
    "    return c2w\n",
    "\n",
    "def get_w2c(camera):\n",
    "    c2w = get_c2w(camera)\n",
    "    w2c = torch.linalg.inv(c2w)\n",
    "    return w2c"
   ]
  },
  {
   "cell_type": "code",
   "execution_count": 4,
   "metadata": {},
   "outputs": [],
   "source": [
    "def get_updated_camera_intrinsics():\n",
    "    W = resolution_slider.value\n",
    "    H = int(W / camera.aspect)\n",
    "    focal_x = W / 2 / np.tan(camera.fov/2)\n",
    "    focal_y = H / 2 / np.tan(camera.fov/2)\n",
    "\n",
    "    return W, H, focal_x, focal_y\n",
    "\n",
    "def get_updated_camera_extrinsics():\n",
    "    rot_c2w = torch.tensor(camera.wxyz, device=\"cuda\").view(1, 4)\n",
    "    \n",
    "    return rot_c2w"
   ]
  },
  {
   "cell_type": "code",
   "execution_count": 5,
   "metadata": {},
   "outputs": [],
   "source": [
    "def sphere_sdf(points):\n",
    "    pos = torch.tensor(position_slider.value, device=\"cuda\")\n",
    "    radius = radius_slider.value\n",
    "\n",
    "    return torch.norm(points - pos, dim=-1) - radius\n",
    "\n",
    "def sphere_normal(points):\n",
    "    eps = 1e-8\n",
    "    sdf = sphere_sdf(points)\n",
    "    sdf_dx = sphere_sdf(points + torch.tensor([eps, 0, 0], device=\"cuda\")) - sdf\n",
    "    sdf_dy = sphere_sdf(points + torch.tensor([0, eps, 0], device=\"cuda\")) - sdf\n",
    "    sdf_dz = sphere_sdf(points + torch.tensor([0, 0, eps], device=\"cuda\")) - sdf\n",
    "\n",
    "    return torch.nn.functional.normalize(torch.stack([sdf_dx, sdf_dy, sdf_dz], dim=-1), dim=-1)\n",
    "\n",
    "def sphere_trace(\n",
    "    points,\n",
    "    camera_center=torch.tensor([0, 0, 0], device=\"cuda\"),\n",
    "    max_steps=20,\n",
    "    min_dist=0.001,\n",
    "    max_dist=100.0,\n",
    "):\n",
    "    # points: (N, 3)\n",
    "    #   points on camera plane in world coordinates\n",
    "    rays = torch.nn.functional.normalize(points - camera_center, dim=-1)\n",
    "\n",
    "    depths = torch.zeros(points.shape[0], 1, device=\"cuda\")\n",
    "    for i in range(max_steps):\n",
    "        dist = sphere_sdf(camera_center + depths * rays).unsqueeze(-1)\n",
    "        depths += dist\n",
    "        if ((dist < min_dist) | (depths > max_dist)).all():\n",
    "            break\n",
    "\n",
    "    return depths"
   ]
  },
  {
   "cell_type": "code",
   "execution_count": null,
   "metadata": {},
   "outputs": [
    {
     "name": "stderr",
     "output_type": "stream",
     "text": [
      "/home/deka/anaconda3/envs/ember/lib/python3.11/site-packages/torch/functional.py:534: UserWarning: torch.meshgrid: in an upcoming release, it will be required to pass the indexing argument. (Triggered internally at ../aten/src/ATen/native/TensorShape.cpp:3595.)\n",
      "  return _VF.meshgrid(tensors, **kwargs)  # type: ignore[attr-defined]\n"
     ]
    },
    {
     "ename": "KeyboardInterrupt",
     "evalue": "",
     "output_type": "error",
     "traceback": [
      "\u001b[0;31m---------------------------------------------------------------------------\u001b[0m",
      "\u001b[0;31mKeyboardInterrupt\u001b[0m                         Traceback (most recent call last)",
      "Cell \u001b[0;32mIn[6], line 20\u001b[0m\n\u001b[1;32m     14\u001b[0m rot_c2w \u001b[38;5;241m=\u001b[39m qvec2rotmat(camera\u001b[38;5;241m.\u001b[39mwxyz)\n\u001b[1;32m     16\u001b[0m pixels__world \u001b[38;5;241m=\u001b[39m einsum(\n\u001b[1;32m     17\u001b[0m     xyo, rot_c2w, \u001b[38;5;124m'\u001b[39m\u001b[38;5;124m... p, o p-> ... o\u001b[39m\u001b[38;5;124m'\u001b[39m\n\u001b[1;32m     18\u001b[0m ) \u001b[38;5;241m+\u001b[39m camera_center\n\u001b[0;32m---> 20\u001b[0m depth \u001b[38;5;241m=\u001b[39m \u001b[43msphere_trace\u001b[49m\u001b[43m(\u001b[49m\n\u001b[1;32m     21\u001b[0m \u001b[43m    \u001b[49m\u001b[43mpixels__world\u001b[49m\u001b[38;5;241;43m.\u001b[39;49m\u001b[43mview\u001b[49m\u001b[43m(\u001b[49m\u001b[38;5;241;43m-\u001b[39;49m\u001b[38;5;241;43m1\u001b[39;49m\u001b[43m,\u001b[49m\u001b[43m \u001b[49m\u001b[38;5;241;43m3\u001b[39;49m\u001b[43m)\u001b[49m\u001b[43m,\u001b[49m\n\u001b[1;32m     22\u001b[0m \u001b[43m    \u001b[49m\u001b[43mcamera_center\u001b[49m\u001b[38;5;241;43m=\u001b[39;49m\u001b[43mcamera_center\u001b[49m\u001b[43m,\u001b[49m\n\u001b[1;32m     23\u001b[0m \u001b[43m    \u001b[49m\u001b[43mmax_steps\u001b[49m\u001b[38;5;241;43m=\u001b[39;49m\u001b[43mtrace_iter_slider\u001b[49m\u001b[38;5;241;43m.\u001b[39;49m\u001b[43mvalue\u001b[49m\u001b[43m,\u001b[49m\n\u001b[1;32m     24\u001b[0m \u001b[43m\u001b[49m\u001b[43m)\u001b[49m\u001b[38;5;241m.\u001b[39mview(H, W)\n\u001b[1;32m     26\u001b[0m rays \u001b[38;5;241m=\u001b[39m torch\u001b[38;5;241m.\u001b[39mnn\u001b[38;5;241m.\u001b[39mfunctional\u001b[38;5;241m.\u001b[39mnormalize(pixels__world \u001b[38;5;241m-\u001b[39m camera_center, dim\u001b[38;5;241m=\u001b[39m\u001b[38;5;241m-\u001b[39m\u001b[38;5;241m1\u001b[39m)\n\u001b[1;32m     27\u001b[0m intersections_world \u001b[38;5;241m=\u001b[39m camera_center \u001b[38;5;241m+\u001b[39m depth\u001b[38;5;241m.\u001b[39munsqueeze(\u001b[38;5;241m-\u001b[39m\u001b[38;5;241m1\u001b[39m) \u001b[38;5;241m*\u001b[39m rays\n",
      "Cell \u001b[0;32mIn[5], line 29\u001b[0m, in \u001b[0;36msphere_trace\u001b[0;34m(points, camera_center, max_steps, min_dist, max_dist)\u001b[0m\n\u001b[1;32m     27\u001b[0m depths \u001b[38;5;241m=\u001b[39m torch\u001b[38;5;241m.\u001b[39mzeros(points\u001b[38;5;241m.\u001b[39mshape[\u001b[38;5;241m0\u001b[39m], \u001b[38;5;241m1\u001b[39m, device\u001b[38;5;241m=\u001b[39m\u001b[38;5;124m\"\u001b[39m\u001b[38;5;124mcuda\u001b[39m\u001b[38;5;124m\"\u001b[39m)\n\u001b[1;32m     28\u001b[0m \u001b[38;5;28;01mfor\u001b[39;00m i \u001b[38;5;129;01min\u001b[39;00m \u001b[38;5;28mrange\u001b[39m(max_steps):\n\u001b[0;32m---> 29\u001b[0m     dist \u001b[38;5;241m=\u001b[39m \u001b[43msphere_sdf\u001b[49m\u001b[43m(\u001b[49m\u001b[43mcamera_center\u001b[49m\u001b[43m \u001b[49m\u001b[38;5;241;43m+\u001b[39;49m\u001b[43m \u001b[49m\u001b[43mdepths\u001b[49m\u001b[43m \u001b[49m\u001b[38;5;241;43m*\u001b[39;49m\u001b[43m \u001b[49m\u001b[43mrays\u001b[49m\u001b[43m)\u001b[49m\u001b[38;5;241m.\u001b[39munsqueeze(\u001b[38;5;241m-\u001b[39m\u001b[38;5;241m1\u001b[39m)\n\u001b[1;32m     30\u001b[0m     depths \u001b[38;5;241m+\u001b[39m\u001b[38;5;241m=\u001b[39m dist\n\u001b[1;32m     31\u001b[0m     \u001b[38;5;28;01mif\u001b[39;00m ((dist \u001b[38;5;241m<\u001b[39m min_dist) \u001b[38;5;241m|\u001b[39m (depths \u001b[38;5;241m>\u001b[39m max_dist))\u001b[38;5;241m.\u001b[39mall():\n",
      "Cell \u001b[0;32mIn[5], line 1\u001b[0m, in \u001b[0;36msphere_sdf\u001b[0;34m(points)\u001b[0m\n\u001b[0;32m----> 1\u001b[0m \u001b[38;5;28;01mdef\u001b[39;00m \u001b[38;5;21msphere_sdf\u001b[39m(points):\n\u001b[1;32m      2\u001b[0m     pos \u001b[38;5;241m=\u001b[39m torch\u001b[38;5;241m.\u001b[39mtensor(position_slider\u001b[38;5;241m.\u001b[39mvalue, device\u001b[38;5;241m=\u001b[39m\u001b[38;5;124m\"\u001b[39m\u001b[38;5;124mcuda\u001b[39m\u001b[38;5;124m\"\u001b[39m)\n\u001b[1;32m      3\u001b[0m     radius \u001b[38;5;241m=\u001b[39m radius_slider\u001b[38;5;241m.\u001b[39mvalue\n",
      "\u001b[0;31mKeyboardInterrupt\u001b[0m: "
     ]
    }
   ],
   "source": [
    "while True:\n",
    "    last_W = W = 0\n",
    "    W, H, focal_x, focal_y = get_updated_camera_intrinsics()\n",
    "    if W != last_W:\n",
    "        x = torch.linspace(-1, 1, W, device='cuda')\n",
    "        y = torch.linspace(-1, 1, H, device='cuda') / camera.aspect\n",
    "        y, x = torch.meshgrid(y, x)\n",
    "        o = torch.ones_like(x)\n",
    "        xyo = torch.stack([x, y, o], dim=-1)\n",
    "    \n",
    "    rot_c2w = get_updated_camera_extrinsics()\n",
    "    camera_center = torch.tensor(camera.position, device=\"cuda\")\n",
    "    rot_c2w = qvec2rotmat(camera.wxyz)\n",
    "\n",
    "    pixels__world = einsum(\n",
    "        xyo, rot_c2w, '... p, o p-> ... o'\n",
    "    ) + camera_center\n",
    "\n",
    "    depth = sphere_trace(\n",
    "        pixels__world.view(-1, 3),\n",
    "        camera_center=camera_center,\n",
    "        max_steps=trace_iter_slider.value,\n",
    "    ).view(H, W)\n",
    "\n",
    "    rays = torch.nn.functional.normalize(pixels__world - camera_center, dim=-1)\n",
    "    intersections_world = camera_center + depth.unsqueeze(-1) * rays\n",
    "    image = sphere_normals = sphere_normal(intersections_world.view(-1, 3)).view(H, W, 3)\n",
    "    image[depth >= 9] = 0.\n",
    "\n",
    "    image -= image.min()\n",
    "    image /= image.max()\n",
    "    client.scene.set_background_image(\n",
    "        image=image.cpu().numpy(),\n",
    "        depth=depth.cpu().numpy(),\n",
    "        format=\"png\"\n",
    "    )\n",
    "\n",
    "    # time.sleep(0.01)"
   ]
  },
  {
   "cell_type": "code",
   "execution_count": null,
   "metadata": {},
   "outputs": [
    {
     "data": {
      "text/html": [
       "<table class=\"show_images\" style=\"border-spacing:0px;\"><tr><td style=\"padding:1px;\"><img width=\"256\" height=\"115\" style=\"image-rendering:auto; object-fit:cover;\" src=\"data:image/png;base64,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\"/></td></tr></table>"
      ],
      "text/plain": [
       "<IPython.core.display.HTML object>"
      ]
     },
     "metadata": {},
     "output_type": "display_data"
    },
    {
     "data": {
      "text/html": [
       "<table class=\"show_images\" style=\"border-spacing:0px;\"><tr><td style=\"padding:1px;\"><img width=\"256\" height=\"115\" style=\"image-rendering:auto; object-fit:cover;\" src=\"data:image/png;base64,iVBORw0KGgoAAAANSUhEUgAAAQAAAABzCAIAAAD40UvqAAADwklEQVR4nO3dUXLbMAyEYbvT+1/ZfaCHVeRElhWQXCz+7wCiBOxa7rRpbjcAAAAAAAAAAAAAgJf76huw9Xg8Aq92v7OpIRjrFbHhjkJJLmBkRzSD/imKcYDR/OcR9zOoRFd6EHUSf6xyH2o9OYk/o1Qf/B+V0P+GfRk8H4/Qj2BZBqtHIvdzODXB4UnI/SoGTUj8AOReR94m5Ltvcq8sXRMy3S7RzyJRDRLcKLnPS78J0vdH9D0o10D0zoi+H80ayN0T0femVgOhuyH6dejUQOI+iH5NCjX4s/oGSH9dCqtfWUGF54eCha+CNQeXjf6ZTTOcqYfOP9J4wXNWyAAjT5x8ntPyFP4M1zDV68dNO8lgSTqJP8aoPzhozjGpV5Il968Y+/tTJpyRcQ15Q/8TtvD9EaMPyDV3v9y/YiNfrj/06olmXSH6W6zmefFxl84y4mrR32JHo66bYrKVo79VeVlDLqo/UKL/qubW/oZfURzR/0mbjH4NYsX/a1DlCZL+t5RHNCJawU8rm37lvWoqssr1Pw8wAem/oMjQIgug+ZlRZJEjaI4uNmZhBSD9ljQHGBg2569AmstLx3uMtgXwXttkxsOMKYDm9x8Yi4qc5xvA+BNrFdeRehYAOCmgAGrff1w/q5ZTG2xI8HgDoDQKgNIoAEqjACiNAqA0CoDSKABKowAoLaAAln8/gldqgw0JHm8AlOZZALXPKgOuI40pgNq3INiLipznG+Dm+4m1hPEwbQtws17bTN5jDCuA5rcg7+VNoDnAwLBFvgHogBnN0fEfY31Mc5Hiigwt/jNbeXCa7yg1pTYY/wZQDpnyakUoj4j/Hj1AW7ByS1dRjv44/IYYlF4WvyOsdA3YEb8l8qlaDVjN8+LjLt0kGvStRg3YyJfrD716k2vijV8T2ML3R4w+oMk4/S5vGRj7+1MmnNGkXkaTpQmM+oOD5hzTGeym0+kDU71+3MzDGqdt7cxZHgOMPHHyeY3xCo+dWTDDmXro/CO7spvGzsIvk+u/xVKDypb/OWr9zwMsHwFWUVj9+jvoeBXUoRD9RuU+OmrgTSf6jdbddNTAj1r0G8V76qiBB83oN7p31lGDvJSj36jf3xZNyEI/912aG+2ogbJE0W+S3e4WTdCRLvdd1vveogmr5M19l/4BtmjCHAa573yeZIsmjOCU+87wkXYow29Yhn7L/PF2KMMZ9qHfKvSor+hDUyrxO3Wf/FWdPlRO/A6DOOJRCeJ+gNFcoVkMgn4BIxsltiSEGwAAAAAAAAAAAACAU/4Bitpfk1Yyev8AAAAASUVORK5CYII=\"/></td></tr></table>"
      ],
      "text/plain": [
       "<IPython.core.display.HTML object>"
      ]
     },
     "metadata": {},
     "output_type": "display_data"
    }
   ],
   "source": [
    "media.show_image(distances.cpu().numpy())\n",
    "media.show_image(image.cpu().numpy())"
   ]
  }
 ],
 "metadata": {
  "kernelspec": {
   "display_name": "ember",
   "language": "python",
   "name": "python3"
  },
  "language_info": {
   "codemirror_mode": {
    "name": "ipython",
    "version": 3
   },
   "file_extension": ".py",
   "mimetype": "text/x-python",
   "name": "python",
   "nbconvert_exporter": "python",
   "pygments_lexer": "ipython3",
   "version": "3.11.10"
  }
 },
 "nbformat": 4,
 "nbformat_minor": 2
}
