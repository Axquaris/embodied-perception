{
 "cells": [
  {
   "cell_type": "code",
   "execution_count": 1,
   "metadata": {},
   "outputs": [
    {
     "data": {
      "text/html": [
       "<pre style=\"white-space:pre;overflow-x:auto;line-height:normal;font-family:Menlo,'DejaVu Sans Mono',consolas,'Courier New',monospace\">╭──────────────── <span style=\"font-weight: bold\">viser</span> ────────────────╮\n",
       "│             ╷                         │\n",
       "│   HTTP      │ http://localhost:8080   │\n",
       "│   Websocket │ ws://localhost:8080     │\n",
       "│             ╵                         │\n",
       "╰───────────────────────────────────────╯\n",
       "</pre>\n"
      ],
      "text/plain": [
       "╭──────────────── \u001b[1mviser\u001b[0m ────────────────╮\n",
       "│             ╷                         │\n",
       "│   HTTP      │ http://localhost:8080   │\n",
       "│   Websocket │ ws://localhost:8080     │\n",
       "│             ╵                         │\n",
       "╰───────────────────────────────────────╯\n"
      ]
     },
     "metadata": {},
     "output_type": "display_data"
    }
   ],
   "source": [
    "from typing import Tuple\n",
    "\n",
    "import numpy as np\n",
    "import time\n",
    "import viser\n",
    "\n",
    "import torch\n",
    "from einops import einsum\n",
    "from torch_perf_utils import Timer\n",
    "\n",
    "\n",
    "server = viser.ViserServer()\n",
    "server.gui.configure_theme(dark_mode=True)\n",
    "\n",
    "server.scene.add_frame(\"origin\")\n",
    "server.scene.set_up_direction((0., 1., 0.))\n",
    "\n",
    "position_slider = server.gui.add_vector3(\n",
    "    \"Position\",\n",
    "    initial_value=(0, 0, 0),\n",
    "    min=(-5, -5, -5),\n",
    "    max=(5, 5, 5),\n",
    ")\n",
    "radius_slider = server.gui.add_slider(\n",
    "    \"Radius\",\n",
    "    min=0,\n",
    "    max=5,\n",
    "    step=0.1,\n",
    "    initial_value=1\n",
    ")\n",
    "\n",
    "resolution_slider = server.gui.add_slider(\n",
    "    \"Resolution\", min=64, max=1024, step=64, initial_value=256\n",
    ")\n",
    "fov_slider = server.gui.add_slider(\n",
    "    \"FOV\", min=30, max=170, step=10, initial_value=60\n",
    ")\n",
    "trace_iter_slider = server.gui.add_slider(\n",
    "    \"Trace Iters\", min=1, max=200, step=1, initial_value=20\n",
    ")"
   ]
  },
  {
   "cell_type": "code",
   "execution_count": 2,
   "metadata": {},
   "outputs": [
    {
     "data": {
      "text/html": [
       "<pre style=\"white-space:pre;overflow-x:auto;line-height:normal;font-family:Menlo,'DejaVu Sans Mono',consolas,'Courier New',monospace\"><span style=\"font-weight: bold\">(viser)</span> Connection opened <span style=\"font-weight: bold\">(</span><span style=\"color: #008080; text-decoration-color: #008080; font-weight: bold\">0</span>, <span style=\"color: #008080; text-decoration-color: #008080; font-weight: bold\">1</span> total<span style=\"font-weight: bold\">)</span>, <span style=\"color: #008080; text-decoration-color: #008080; font-weight: bold\">14</span> persistent messages\n",
       "</pre>\n"
      ],
      "text/plain": [
       "\u001b[1m(\u001b[0m\u001b[1mviser\u001b[0m\u001b[1m)\u001b[0m Connection opened \u001b[1m(\u001b[0m\u001b[1;36m0\u001b[0m, \u001b[1;36m1\u001b[0m total\u001b[1m)\u001b[0m, \u001b[1;36m14\u001b[0m persistent messages\n"
      ]
     },
     "metadata": {},
     "output_type": "display_data"
    },
    {
     "data": {
      "text/plain": [
       "(array([-4.0666168 ,  0.52649774,  1.04774976]),\n",
       " array([ 0.04925929,  0.78887438, -0.03817649,  0.61138637]))"
      ]
     },
     "execution_count": 2,
     "metadata": {},
     "output_type": "execute_result"
    }
   ],
   "source": [
    "while not list(server.get_clients().values()):\n",
    "    time.sleep(0.5)\n",
    "\n",
    "client = list(server.get_clients().values())[-1]\n",
    "camera = client.camera\n",
    "# camera.position = (0., 0., 0.)\n",
    "# # Point camera \"down\" x-axis\n",
    "# # camera.wxyz = (1., 0., 0, 0.)\n",
    "\n",
    "camera_updated = True\n",
    "@camera.on_update\n",
    "def _(_):\n",
    "    global camera_updated\n",
    "    camera_updated = True\n",
    "\n",
    "@fov_slider.on_update\n",
    "def _(_) -> None:\n",
    "    camera.fov = fov_slider.value * np.pi / 180\n",
    "\n",
    "camera.position, camera.wxyz\n"
   ]
  },
  {
   "cell_type": "code",
   "execution_count": 3,
   "metadata": {},
   "outputs": [],
   "source": [
    "def qvec2rotmat(qvec):\n",
    "    return torch.tensor(\n",
    "        [\n",
    "            [\n",
    "                1 - 2 * qvec[2] ** 2 - 2 * qvec[3] ** 2,\n",
    "                2 * qvec[1] * qvec[2] - 2 * qvec[0] * qvec[3],\n",
    "                2 * qvec[3] * qvec[1] + 2 * qvec[0] * qvec[2],\n",
    "            ],\n",
    "            [\n",
    "                2 * qvec[1] * qvec[2] + 2 * qvec[0] * qvec[3],\n",
    "                1 - 2 * qvec[1] ** 2 - 2 * qvec[3] ** 2,\n",
    "                2 * qvec[2] * qvec[3] - 2 * qvec[0] * qvec[1],\n",
    "            ],\n",
    "            [\n",
    "                2 * qvec[3] * qvec[1] - 2 * qvec[0] * qvec[2],\n",
    "                2 * qvec[2] * qvec[3] + 2 * qvec[0] * qvec[1],\n",
    "                1 - 2 * qvec[1] ** 2 - 2 * qvec[2] ** 2,\n",
    "            ],\n",
    "        ],\n",
    "        dtype=torch.float32,\n",
    "        device=\"cuda\",\n",
    "    )"
   ]
  },
  {
   "cell_type": "code",
   "execution_count": 4,
   "metadata": {},
   "outputs": [],
   "source": [
    "def get_updated_camera_intrinsics():\n",
    "    W = resolution_slider.value\n",
    "    H = int(W / camera.aspect)\n",
    "    focal_x = W / 2 / np.tan(camera.fov/2)\n",
    "    focal_y = H / 2 / np.tan(camera.fov/2)\n",
    "\n",
    "    return W, H, focal_x, focal_y\n",
    "\n",
    "def get_updated_camera_extrinsics():\n",
    "    rot_c2w = torch.tensor(camera.wxyz, device=\"cuda\").view(1, 4)\n",
    "    \n",
    "    return rot_c2w"
   ]
  },
  {
   "cell_type": "code",
   "execution_count": 5,
   "metadata": {},
   "outputs": [],
   "source": [
    "def compute_xyo(H, W):\n",
    "    x = torch.linspace(-1, 1, W, device='cuda')\n",
    "    y = torch.linspace(-1, 1, H, device='cuda') / camera.aspect\n",
    "    y, x = torch.meshgrid(y, x)\n",
    "    o = torch.ones_like(x)\n",
    "    xyo = torch.stack([x, y, o], dim=-1)\n",
    "    return xyo\n",
    "\n",
    "def sphere_sdf(points: torch.Tensor) -> torch.Tensor:\n",
    "    \"\"\"\n",
    "    Calculate the signed distance function (SDF) for a sphere.\n",
    "\n",
    "    Parameters\n",
    "    ----------\n",
    "    points : torch.Tensor\n",
    "        Points in space to calculate the SDF for, shape (N, 3).\n",
    "\n",
    "    Returns\n",
    "    -------\n",
    "    torch.Tensor\n",
    "        Signed distance from each point to the sphere surface, shape (N,).\n",
    "    \"\"\"\n",
    "    pos = torch.tensor(position_slider.value, device=\"cuda\")\n",
    "    radius = radius_slider.value\n",
    "\n",
    "    return torch.norm(points - pos, dim=-1) - radius\n",
    "\n",
    "def sphere_normal(points: torch.Tensor) -> torch.Tensor:\n",
    "    \"\"\"\n",
    "    Calculate the normal vectors for a sphere at given points.\n",
    "\n",
    "    Parameters\n",
    "    ----------\n",
    "    points : torch.Tensor\n",
    "        Points in space to calculate the normals for, shape (N, 3).\n",
    "\n",
    "    Returns\n",
    "    -------\n",
    "    torch.Tensor\n",
    "        Normal vectors at each point, shape (N, 3).\n",
    "    \"\"\"\n",
    "    eps = 1e-8\n",
    "    sdf = sphere_sdf(points)\n",
    "    sdf_dx = sphere_sdf(points + torch.tensor([eps, 0, 0], device=\"cuda\")) - sdf\n",
    "    sdf_dy = sphere_sdf(points + torch.tensor([0, eps, 0], device=\"cuda\")) - sdf\n",
    "    sdf_dz = sphere_sdf(points + torch.tensor([0, 0, eps], device=\"cuda\")) - sdf\n",
    "\n",
    "    return torch.nn.functional.normalize(torch.stack([sdf_dx, sdf_dy, sdf_dz], dim=-1), dim=-1)\n",
    "\n",
    "def sphere_trace(\n",
    "    rays: torch.Tensor,\n",
    "    camera_center: torch.Tensor = torch.tensor([0, 0, 0], device=\"cuda\"),\n",
    "    max_steps: int = 20,\n",
    "    min_dist: float = 0.001,\n",
    "    max_dist: float = 100.0,\n",
    ") -> Tuple[torch.Tensor, torch.Tensor]:\n",
    "    \"\"\"\n",
    "    Perform sphere tracing to find the intersection points of rays with a sphere.\n",
    "\n",
    "    Parameters\n",
    "    ----------\n",
    "    rays : torch.Tensor\n",
    "        Rays through camera pixels in world coordinates, shape (N, 3).\n",
    "    camera_center : torch.Tensor, optional\n",
    "        The center of the camera, shape (3,). Default is [0, 0, 0]\n",
    "    max_steps : int, optional\n",
    "        Maximum number of tracing steps. Default is 20.\n",
    "    min_dist : float, optional\n",
    "        Minimum distance to consider an intersection. Default is 0.001.\n",
    "    max_dist : float, optional\n",
    "        Maximum distance to trace. Default is 100.0.\n",
    "\n",
    "    Returns\n",
    "    -------\n",
    "    torch.Tensor\n",
    "        Depths of intersection points, shape (N, 1).\n",
    "    \"\"\"\n",
    "    depths = torch.zeros(*rays.shape[:-1], 1, device=\"cuda\")\n",
    "    for i in range(max_steps):\n",
    "        points = camera_center + depths * rays\n",
    "        dist = sphere_sdf(points).unsqueeze(-1)\n",
    "        depths += dist\n",
    "        if ((dist < min_dist) | (depths > max_dist)).all():\n",
    "            break\n",
    "\n",
    "    return depths, points"
   ]
  },
  {
   "cell_type": "code",
   "execution_count": null,
   "metadata": {},
   "outputs": [
    {
     "name": "stderr",
     "output_type": "stream",
     "text": [
      "/home/deka/anaconda3/envs/ember/lib/python3.11/site-packages/torch/functional.py:534: UserWarning: torch.meshgrid: in an upcoming release, it will be required to pass the indexing argument. (Triggered internally at ../aten/src/ATen/native/TensorShape.cpp:3595.)\n",
      "  return _VF.meshgrid(tensors, **kwargs)  # type: ignore[attr-defined]\n"
     ]
    },
    {
     "ename": "KeyboardInterrupt",
     "evalue": "",
     "output_type": "error",
     "traceback": [
      "\u001b[0;31m---------------------------------------------------------------------------\u001b[0m",
      "\u001b[0;31mKeyboardInterrupt\u001b[0m                         Traceback (most recent call last)",
      "Cell \u001b[0;32mIn[6], line 22\u001b[0m\n\u001b[1;32m     19\u001b[0m rays \u001b[38;5;241m=\u001b[39m torch\u001b[38;5;241m.\u001b[39mnn\u001b[38;5;241m.\u001b[39mfunctional\u001b[38;5;241m.\u001b[39mnormalize(pixels__world_rot, dim\u001b[38;5;241m=\u001b[39m\u001b[38;5;241m-\u001b[39m\u001b[38;5;241m1\u001b[39m)\n\u001b[1;32m     20\u001b[0m pixels__world \u001b[38;5;241m=\u001b[39m pixels__world_rot \u001b[38;5;241m+\u001b[39m camera_center\n\u001b[0;32m---> 22\u001b[0m depth, intersections_world \u001b[38;5;241m=\u001b[39m \u001b[43msphere_trace\u001b[49m\u001b[43m(\u001b[49m\n\u001b[1;32m     23\u001b[0m \u001b[43m    \u001b[49m\u001b[43mrays\u001b[49m\u001b[43m,\u001b[49m\n\u001b[1;32m     24\u001b[0m \u001b[43m    \u001b[49m\u001b[43mcamera_center\u001b[49m\u001b[38;5;241;43m=\u001b[39;49m\u001b[43mcamera_center\u001b[49m\u001b[43m,\u001b[49m\n\u001b[1;32m     25\u001b[0m \u001b[43m    \u001b[49m\u001b[43mmax_steps\u001b[49m\u001b[38;5;241;43m=\u001b[39;49m\u001b[43mtrace_iter_slider\u001b[49m\u001b[38;5;241;43m.\u001b[39;49m\u001b[43mvalue\u001b[49m\u001b[43m,\u001b[49m\n\u001b[1;32m     26\u001b[0m \u001b[43m\u001b[49m\u001b[43m)\u001b[49m\n\u001b[1;32m     27\u001b[0m depth \u001b[38;5;241m=\u001b[39m depth\n\u001b[1;32m     28\u001b[0m intersections_world \u001b[38;5;241m=\u001b[39m intersections_world\n",
      "Cell \u001b[0;32mIn[5], line 83\u001b[0m, in \u001b[0;36msphere_trace\u001b[0;34m(rays, camera_center, max_steps, min_dist, max_dist)\u001b[0m\n\u001b[1;32m     81\u001b[0m     dist \u001b[38;5;241m=\u001b[39m sphere_sdf(points)\u001b[38;5;241m.\u001b[39munsqueeze(\u001b[38;5;241m-\u001b[39m\u001b[38;5;241m1\u001b[39m)\n\u001b[1;32m     82\u001b[0m     depths \u001b[38;5;241m+\u001b[39m\u001b[38;5;241m=\u001b[39m dist\n\u001b[0;32m---> 83\u001b[0m     \u001b[38;5;28;01mif\u001b[39;00m \u001b[43m(\u001b[49m\u001b[43m(\u001b[49m\u001b[43mdist\u001b[49m\u001b[43m \u001b[49m\u001b[38;5;241;43m<\u001b[39;49m\u001b[43m \u001b[49m\u001b[43mmin_dist\u001b[49m\u001b[43m)\u001b[49m\u001b[43m \u001b[49m\u001b[38;5;241;43m|\u001b[39;49m\u001b[43m \u001b[49m\u001b[43m(\u001b[49m\u001b[43mdepths\u001b[49m\u001b[43m \u001b[49m\u001b[38;5;241;43m>\u001b[39;49m\u001b[43m \u001b[49m\u001b[43mmax_dist\u001b[49m\u001b[43m)\u001b[49m\u001b[43m)\u001b[49m\u001b[38;5;241;43m.\u001b[39;49m\u001b[43mall\u001b[49m\u001b[43m(\u001b[49m\u001b[43m)\u001b[49m:\n\u001b[1;32m     84\u001b[0m         \u001b[38;5;28;01mbreak\u001b[39;00m\n\u001b[1;32m     86\u001b[0m \u001b[38;5;28;01mreturn\u001b[39;00m depths, points\n",
      "\u001b[0;31mKeyboardInterrupt\u001b[0m: "
     ]
    }
   ],
   "source": [
    "while True:\n",
    "    last_W = W = 0\n",
    "    W, H, focal_x, focal_y = get_updated_camera_intrinsics()\n",
    "    if W != last_W:\n",
    "        xyo = compute_xyo(H, W)\n",
    "        camera_updated = True\n",
    "\n",
    "    if camera_updated:\n",
    "        with Timer(\"camera_updated\"):\n",
    "            camera_updated = False\n",
    "\n",
    "            rot_c2w = get_updated_camera_extrinsics()\n",
    "            camera_center = torch.tensor(camera.position, device=\"cuda\")\n",
    "            rot_c2w = qvec2rotmat(camera.wxyz)\n",
    "\n",
    "            pixels__world_rot = einsum(\n",
    "                xyo, rot_c2w, '... p, o p-> ... o'\n",
    "            )\n",
    "            rays = torch.nn.functional.normalize(pixels__world_rot, dim=-1)\n",
    "            pixels__world = pixels__world_rot + camera_center\n",
    "\n",
    "            depth, intersections_world = sphere_trace(\n",
    "                rays,\n",
    "                camera_center=camera_center,\n",
    "                max_steps=trace_iter_slider.value,\n",
    "            )\n",
    "            depth = depth\n",
    "            intersections_world = intersections_world\n",
    "\n",
    "            image = sphere_normals = sphere_normal(intersections_world)\n",
    "            image[depth.squeeze() >= 9] = 0.\n",
    "\n",
    "            image -= image.min()\n",
    "            image /= image.max()\n",
    "\n",
    "            with Timer(\"set_bg_image\"):\n",
    "                client.scene.set_background_image(\n",
    "                    image=image.cpu().numpy(),\n",
    "                    depth=depth.cpu().numpy(),\n",
    "                    format=\"png\"\n",
    "                )"
   ]
  },
  {
   "cell_type": "code",
   "execution_count": 7,
   "metadata": {},
   "outputs": [
    {
     "name": "stdout",
     "output_type": "stream",
     "text": [
      "{'camera_updated': 'average FPS 42.11155222539277'}\n"
     ]
    }
   ],
   "source": [
    "Timer.show_recorder()"
   ]
  }
 ],
 "metadata": {
  "kernelspec": {
   "display_name": "ember",
   "language": "python",
   "name": "python3"
  },
  "language_info": {
   "codemirror_mode": {
    "name": "ipython",
    "version": 3
   },
   "file_extension": ".py",
   "mimetype": "text/x-python",
   "name": "python",
   "nbconvert_exporter": "python",
   "pygments_lexer": "ipython3",
   "version": "3.11.10"
  }
 },
 "nbformat": 4,
 "nbformat_minor": 2
}
